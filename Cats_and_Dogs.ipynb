{
 "cells": [
  {
   "cell_type": "markdown",
   "id": "3a0e0675",
   "metadata": {},
   "source": [
    "# CATS AND DOGS"
   ]
  },
  {
   "cell_type": "markdown",
   "id": "c1b98da2",
   "metadata": {},
   "source": [
    "In the proccess of this project we will discuss the quality of various Neural Network models to analyse and Classify a Dataset of 37 type of cat and dog races."
   ]
  },
  {
   "cell_type": "markdown",
   "id": "a72d684c",
   "metadata": {},
   "source": []
  }
 ],
 "metadata": {
  "kernelspec": {
   "display_name": "env_conda_Torch",
   "language": "python",
   "name": "python3"
  },
  "language_info": {
   "name": "python",
   "version": "3.12.11"
  }
 },
 "nbformat": 4,
 "nbformat_minor": 5
}
